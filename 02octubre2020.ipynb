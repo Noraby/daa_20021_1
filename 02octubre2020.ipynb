{
  "nbformat": 4,
  "nbformat_minor": 0,
  "metadata": {
    "colab": {
      "name": "02octubre2020.ipynb",
      "provenance": [],
      "authorship_tag": "ABX9TyPCAzkx75UxR+YvSg9bGwml",
      "include_colab_link": true
    },
    "kernelspec": {
      "name": "python3",
      "display_name": "Python 3"
    }
  },
  "cells": [
    {
      "cell_type": "markdown",
      "metadata": {
        "id": "view-in-github",
        "colab_type": "text"
      },
      "source": [
        "<a href=\"https://colab.research.google.com/github/21alan/daa_20021_1/blob/master/02octubre2020.ipynb\" target=\"_parent\"><img src=\"https://colab.research.google.com/assets/colab-badge.svg\" alt=\"Open In Colab\"/></a>"
      ]
    },
    {
      "cell_type": "markdown",
      "metadata": {
        "id": "Jiu_u_ACiWlW"
      },
      "source": [
        "## Meteorología en México\n",
        "En Sistema meteorológico nacional lleva el registro de la lluvias desde el año 1985 y lo pone a disposición de la población por medio de la pagina datos.gob.mx.\n",
        "\n",
        "En la siguiente liga se encuentran 2  archivos separados por comas CSV correspondientes a los registros de lluvias\n",
        "mensuales y anuales de los años 2017 y 2018. En los columnas se encuentran 13,  correspondientes al promedio mensual y el promedio anual.\n",
        "En los renglones se encuentran 33, correspondientes a cada uno de los 32 estados y a nivel nacional.\n",
        "\n",
        "https://drive.google.com/file/d/1lamkxgq2AsXRu81Y4JTNXLVld4og7nxt/view?usp=sharing\n",
        "\n",
        "\n",
        "## Planteamiento del problema\n",
        "Diseñar un algoritmo y programarlo para que:\n",
        "1. Solicite por teclado el año, el estado y el mes, en base a esa información:\n",
        "- muestre en pantalla el promedio de ese mes en ese estado en el año seleccionado.\n",
        "- muestre en pantalla el promedio anual del  estado seleccionado.\n",
        "- muestre la suma de los 12 meses de ese estado en el año selecc\n",
        "ionado.\n",
        "\n",
        "2. Busque el mes que mas llovió en todos los estados durante esos dos años. Imprimir año, estado y mes.\n",
        "3. Busque el mes que menos llovió en los dos. Imprimir año, estado y mes."
      ]
    },
    {
      "cell_type": "code",
      "metadata": {
        "id": "ljKYPwiHj2cI",
        "outputId": "3adefb23-eac5-4082-cab6-37253938c2a8",
        "colab": {
          "base_uri": "https://localhost:8080/",
          "height": 323
        }
      },
      "source": [
        "class Array3D:\n",
        "    def __init__(self,depth,rows,cols):\n",
        "        self.__depth=depth\n",
        "        self.__rows=rows\n",
        "        self.__cols=cols\n",
        "        self.__arreglo=[[[0 for k in range(cols)] for j in range(rows)]for i in range(depth)]\n",
        "    \n",
        "    def get_num_depth(self):\n",
        "        return self.__depth\n",
        "\n",
        "    def get_num_rows(self):\n",
        "        return self.__rows\n",
        "\n",
        "    def get_num_cols(self):\n",
        "        return self.__cols\n",
        "\n",
        "    def get_item(self,depth,rows,cols):\n",
        "        return self.__arreglo[depth][rows][cols]\n",
        "\n",
        "    def set_item(self,depth,rows,cols,value):\n",
        "        self.__arreglo[depth][rows][cols]=value\n",
        "\n",
        "    def clearing(self,value):\n",
        "        for i in range(self.__depth):\n",
        "            for j in range(self.__rows):\n",
        "                for k in range(self.__cols):\n",
        "                    self.__arreglo[i][j][k]=value\n",
        "\n",
        "    def to_string(self):\n",
        "        capa=1\n",
        "        for layer in self.__arreglo:\n",
        "            print('----Capa',capa,'----')\n",
        "            for ren in layer:\n",
        "                print(ren)\n",
        "            capa+=1\n",
        "        print()\n",
        "import xlrd\n",
        "def main():\n",
        "  a3=Array3D(2,33,14)\n",
        "  for anio in range(2017,2019):\n",
        "    ruta=str(anio)+'Precip.xls'\n",
        "    archivo=xlrd.open_workbook(filename=ruta)\n",
        "    hoja=archivo.sheet_by_index(0)\n",
        "    for r in range(1,34):\n",
        "      for c in range(0,14):\n",
        "        a3.set_item(anio-2017,r-1,c,hoja.cell_value(r,c))\n",
        "  a=int(input('Año (2017-2018): '))\n",
        "  e=int(input('Edo (1-32): '))\n",
        "  m=int(input('Mes (1-12): '))\n",
        "  print('En',a3.get_item(2017-a,e,0),'hubo un promedio de',a3.get_item(2017-a,e,m),'en el mes de',a3.get_item(2017-a,0,m))\n",
        "  \n",
        "  promedio=0\n",
        "  for mes in range(1,13):\n",
        "    promedio+=a3.get_item(2017-a,e,mes)\n",
        "  suma=promedio\n",
        "  promedio=promedio/12\n",
        "  print(\"El promedio en \",a3.get_item(2017-a,e,0),\" fue de \",promedio)\n",
        "  print(\"La suma de los doce meses del estado \",a3.get_item(2017-a,e,0),\" es de \",suma)\n",
        "\n",
        "  arreglo=[]\n",
        "  for anio in range(0,2):\n",
        "        for estado in range(1,33):\n",
        "            for mes in range(1,13):\n",
        "                arreglo.append(a3.get_item(anio,estado,mes))\n",
        "  for numPasada in range(len(arreglo)-1,0,-1):\n",
        "        for i in range(numPasada):\n",
        "            if arreglo[i]>arreglo[i+1]:\n",
        "                temp = arreglo[i]\n",
        "                arreglo[i] = arreglo[i+1]\n",
        "                arreglo[i+1] = temp\n",
        "  \n",
        "\n",
        "  for anio in range(0,2):\n",
        "        for estado in range(1,33):\n",
        "            for mes in range(1,13):\n",
        "                if arreglo[len(arreglo)-1]== a3.get_item(anio,estado,mes):\n",
        "                  print(\"El mes mas lluvioso esta en el año\",str(2017+anio),\"en el mes de\",a3.get_item(anio,0,mes),\"en el estado de\",a3.get_item(anio,estado,0))\n",
        "  \n",
        "  for anio in range(0,2):\n",
        "        for estado in range(1,33):\n",
        "            for mes in range(1,13):\n",
        "                if arreglo[0]== a3.get_item(anio,estado,mes):\n",
        "                  print(\"El mes menos lluvioso esta en el año\",str(2017+anio),\"en el mes de\",a3.get_item(anio,0,mes),\"en el estado de\",a3.get_item(anio,estado,0) )\n",
        "      \n",
        "  \n",
        "\n",
        "\n",
        "\n",
        "\n",
        "\n",
        "\n",
        "main ()\n",
        "\n",
        "   \n",
        "\n"
      ],
      "execution_count": 44,
      "outputs": [
        {
          "output_type": "stream",
          "text": [
            "Año (2017-2018): 2017\n",
            "Edo (1-32): 1\n",
            "Mes (1-12): 1\n",
            "En AGUASCALIENTES hubo un promedio de 0.44 en el mes de ENE\n",
            "El promedio en  AGUASCALIENTES  fue de  48.284166666666664\n",
            "La suma de los doce meses del estado  AGUASCALIENTES  es de  579.41\n",
            "El mes mas lluvioso esta en el año 2018 en el mes de JUN en el estado de MORELOS\n",
            "El mes menos lluvioso esta en el año 2017 en el mes de ABR en el estado de COLIMA\n",
            "El mes menos lluvioso esta en el año 2017 en el mes de ENE en el estado de DISTRITO FEDERAL\n",
            "El mes menos lluvioso esta en el año 2018 en el mes de MAY en el estado de BAJA CALIFORNIA SUR\n",
            "El mes menos lluvioso esta en el año 2018 en el mes de MAR en el estado de COLIMA\n",
            "El mes menos lluvioso esta en el año 2018 en el mes de ABR en el estado de COLIMA\n",
            "El mes menos lluvioso esta en el año 2018 en el mes de MAR en el estado de NAYARIT\n"
          ],
          "name": "stdout"
        }
      ]
    },
    {
      "cell_type": "markdown",
      "metadata": {
        "id": "YwbjPp6_lf0T"
      },
      "source": [
        ""
      ]
    }
  ]
}
